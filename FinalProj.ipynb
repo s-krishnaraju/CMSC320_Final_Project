{
 "cells": [
  {
   "cell_type": "markdown",
   "metadata": {},
   "source": [
    "## Part 1: Introduction"
   ]
  },
  {
   "cell_type": "markdown",
   "metadata": {},
   "source": [
    "\n",
    "\n",
    "Import libraries"
   ]
  },
  {
   "cell_type": "code",
   "execution_count": 291,
   "metadata": {},
   "outputs": [],
   "source": [
    "import pandas as pd\n",
    "import numpy as np\n",
    "import matplotlib.pyplot as plt\n",
    "import scipy.stats as stats\n",
    "import seaborn as sns\n",
    "from sklearn.preprocessing import StandardScaler\n",
    "from sklearn.model_selection import train_test_split, GridSearchCV, cross_val_score, StratifiedKFold\n",
    "from sklearn.ensemble import RandomForestClassifier\n",
    "from sklearn.metrics import classification_report, confusion_matrix, accuracy_score "
   ]
  },
  {
   "cell_type": "markdown",
   "metadata": {},
   "source": [
    "## Part 2: Data Curation"
   ]
  },
  {
   "cell_type": "markdown",
   "metadata": {},
   "source": [
    "### **Loading Dataset**"
   ]
  },
  {
   "cell_type": "markdown",
   "metadata": {},
   "source": [
    "https://pubmed.ncbi.nlm.nih.gov/2756873/ describe study/dataset here\n",
    "# EXPLAIN DATASET HERE AND IN DETAIL\n",
    "\n",
    "We are going to be using the cleve.mod file from our UCI dataset which we can download from https://archive.ics.uci.edu/dataset/45/heart+disease. It is a plain text file that has data for each patient as 14 variables that are space delimited text. The 14 variable names and info can be found on the UCI heart disease site. Before parsing our file, let's initialize our dataframe columns with our variables."
   ]
  },
  {
   "cell_type": "code",
   "execution_count": 258,
   "metadata": {},
   "outputs": [],
   "source": [
    "# These are our variables from the UCI Heart Disease dataset\n",
    "variable_names = [\"age\",\n",
    "\"sex\",\n",
    "\"cp\",\n",
    "\"trestbps\",\n",
    "\"chol\",\n",
    "\"fbs\",\n",
    "\"restecg\",\n",
    "\"thalach\",\n",
    "\"exang\",\n",
    "\"oldpeak\",\n",
    "\"slope\",\n",
    "\"ca\",\n",
    "\"thal\", \n",
    "\"heart_disease\", \n",
    "\"stage\"]\n",
    "\n",
    "# Create an empty DataFrame with feature/target as columns\n",
    "df = pd.DataFrame(columns=variable_names)\n"
   ]
  },
  {
   "cell_type": "markdown",
   "metadata": {},
   "source": [
    "Now lets read our cleve.mod file  into our dataframe. We will have to do some parsing since it's a plain old text file."
   ]
  },
  {
   "cell_type": "code",
   "execution_count": 259,
   "metadata": {},
   "outputs": [
    {
     "data": {
      "text/html": [
       "<div>\n",
       "<style scoped>\n",
       "    .dataframe tbody tr th:only-of-type {\n",
       "        vertical-align: middle;\n",
       "    }\n",
       "\n",
       "    .dataframe tbody tr th {\n",
       "        vertical-align: top;\n",
       "    }\n",
       "\n",
       "    .dataframe thead th {\n",
       "        text-align: right;\n",
       "    }\n",
       "</style>\n",
       "<table border=\"1\" class=\"dataframe\">\n",
       "  <thead>\n",
       "    <tr style=\"text-align: right;\">\n",
       "      <th></th>\n",
       "      <th>age</th>\n",
       "      <th>sex</th>\n",
       "      <th>cp</th>\n",
       "      <th>trestbps</th>\n",
       "      <th>chol</th>\n",
       "      <th>fbs</th>\n",
       "      <th>restecg</th>\n",
       "      <th>thalach</th>\n",
       "      <th>exang</th>\n",
       "      <th>oldpeak</th>\n",
       "      <th>slope</th>\n",
       "      <th>ca</th>\n",
       "      <th>thal</th>\n",
       "      <th>heart_disease</th>\n",
       "      <th>stage</th>\n",
       "    </tr>\n",
       "  </thead>\n",
       "  <tbody>\n",
       "    <tr>\n",
       "      <th>0</th>\n",
       "      <td>63.0</td>\n",
       "      <td>male</td>\n",
       "      <td>angina</td>\n",
       "      <td>145.0</td>\n",
       "      <td>233.0</td>\n",
       "      <td>true</td>\n",
       "      <td>hyp</td>\n",
       "      <td>150.0</td>\n",
       "      <td>fal</td>\n",
       "      <td>2.3</td>\n",
       "      <td>down</td>\n",
       "      <td>0.0</td>\n",
       "      <td>fix</td>\n",
       "      <td>buff</td>\n",
       "      <td>H</td>\n",
       "    </tr>\n",
       "    <tr>\n",
       "      <th>1</th>\n",
       "      <td>67.0</td>\n",
       "      <td>male</td>\n",
       "      <td>asympt</td>\n",
       "      <td>160.0</td>\n",
       "      <td>286.0</td>\n",
       "      <td>fal</td>\n",
       "      <td>hyp</td>\n",
       "      <td>108.0</td>\n",
       "      <td>true</td>\n",
       "      <td>1.5</td>\n",
       "      <td>flat</td>\n",
       "      <td>3.0</td>\n",
       "      <td>norm</td>\n",
       "      <td>sick</td>\n",
       "      <td>S2</td>\n",
       "    </tr>\n",
       "    <tr>\n",
       "      <th>2</th>\n",
       "      <td>67.0</td>\n",
       "      <td>male</td>\n",
       "      <td>asympt</td>\n",
       "      <td>120.0</td>\n",
       "      <td>229.0</td>\n",
       "      <td>fal</td>\n",
       "      <td>hyp</td>\n",
       "      <td>129.0</td>\n",
       "      <td>true</td>\n",
       "      <td>2.6</td>\n",
       "      <td>flat</td>\n",
       "      <td>2.0</td>\n",
       "      <td>rev</td>\n",
       "      <td>sick</td>\n",
       "      <td>S1</td>\n",
       "    </tr>\n",
       "    <tr>\n",
       "      <th>3</th>\n",
       "      <td>37.0</td>\n",
       "      <td>male</td>\n",
       "      <td>notang</td>\n",
       "      <td>130.0</td>\n",
       "      <td>250.0</td>\n",
       "      <td>fal</td>\n",
       "      <td>norm</td>\n",
       "      <td>187.0</td>\n",
       "      <td>fal</td>\n",
       "      <td>3.5</td>\n",
       "      <td>down</td>\n",
       "      <td>0.0</td>\n",
       "      <td>norm</td>\n",
       "      <td>buff</td>\n",
       "      <td>H</td>\n",
       "    </tr>\n",
       "    <tr>\n",
       "      <th>4</th>\n",
       "      <td>41.0</td>\n",
       "      <td>fem</td>\n",
       "      <td>abnang</td>\n",
       "      <td>130.0</td>\n",
       "      <td>204.0</td>\n",
       "      <td>fal</td>\n",
       "      <td>hyp</td>\n",
       "      <td>172.0</td>\n",
       "      <td>fal</td>\n",
       "      <td>1.4</td>\n",
       "      <td>up</td>\n",
       "      <td>0.0</td>\n",
       "      <td>norm</td>\n",
       "      <td>buff</td>\n",
       "      <td>H</td>\n",
       "    </tr>\n",
       "  </tbody>\n",
       "</table>\n",
       "</div>"
      ],
      "text/plain": [
       "    age   sex      cp trestbps   chol   fbs restecg thalach exang oldpeak  \\\n",
       "0  63.0  male  angina    145.0  233.0  true     hyp   150.0   fal     2.3   \n",
       "1  67.0  male  asympt    160.0  286.0   fal     hyp   108.0  true     1.5   \n",
       "2  67.0  male  asympt    120.0  229.0   fal     hyp   129.0  true     2.6   \n",
       "3  37.0  male  notang    130.0  250.0   fal    norm   187.0   fal     3.5   \n",
       "4  41.0   fem  abnang    130.0  204.0   fal     hyp   172.0   fal     1.4   \n",
       "\n",
       "  slope   ca  thal heart_disease stage  \n",
       "0  down  0.0   fix          buff     H  \n",
       "1  flat  3.0  norm          sick    S2  \n",
       "2  flat  2.0   rev          sick    S1  \n",
       "3  down  0.0  norm          buff     H  \n",
       "4    up  0.0  norm          buff     H  "
      ]
     },
     "metadata": {},
     "output_type": "display_data"
    }
   ],
   "source": [
    "# Read in the cleve.mod file\n",
    "f = open(\"./cleve.mod\")\n",
    "if f: \n",
    "    lines = f.readlines()\n",
    "    for line in lines:\n",
    "        line = line.strip()\n",
    "        # Skip empty lines and lines that start with % (they are comments) \n",
    "        if line and line[0] != \"%\" :\n",
    "            data = []\n",
    "            # Split the line by whitespace \n",
    "            for value in line.split():\n",
    "                data.append(value)\n",
    "                \n",
    "            # Add the data to the dataframe\n",
    "            df.loc[len(df)] = data\n",
    "                \n",
    "\n",
    "# Lets look at our data\n",
    "display(df.head())"
   ]
  },
  {
   "cell_type": "markdown",
   "metadata": {},
   "source": [
    "Yay! We were able to succesfully convert our dataset from a plain text file to a dataframe. But what do all these variables mean? Let's look at our handy table below to figure that out. \n",
    "\n",
    "<br>\n",
    "\n",
    "<table style=\"font-size: 12px; border-collapse: collapse; width: 100%; text-align: left;\">\n",
    "    <thead>\n",
    "        <tr>\n",
    "            <th style=\"border: 1px solid black; padding: 5px;\">Variable</th>\n",
    "            <th style=\"border: 1px solid black; padding: 5px;\">Description</th>\n",
    "        </tr>\n",
    "    </thead>\n",
    "    <tbody>\n",
    "        <tr>\n",
    "            <td style=\"border: 1px solid black; padding: 5px;\">age</td>\n",
    "            <td style=\"border: 1px solid black; padding: 5px;\">Age of the patient in years</td>\n",
    "        </tr>\n",
    "        <tr>\n",
    "            <td style=\"border: 1px solid black; padding: 5px;\">sex</td>\n",
    "            <td style=\"border: 1px solid black; padding: 5px;\">Gender of the patient</td>\n",
    "        </tr>\n",
    "        <tr>\n",
    "            <td style=\"border: 1px solid black; padding: 5px;\">cp</td>\n",
    "            <td style=\"border: 1px solid black; padding: 5px;\">Chest pain type of angina (Typical angina), abnang (Abnormal angina), notang (Non-anginal pain), and asympt (Asymptomatic/No pain)</td>\n",
    "        </tr>\n",
    "        <tr>\n",
    "            <td style=\"border: 1px solid black; padding: 5px;\">trestbps</td>\n",
    "            <td style=\"border: 1px solid black; padding: 5px;\">Resting blood pressure in mm Hg</td>\n",
    "        </tr>\n",
    "        <tr>\n",
    "            <td style=\"border: 1px solid black; padding: 5px;\">chol</td>\n",
    "            <td style=\"border: 1px solid black; padding: 5px;\">Cholesterol in mg/dl</td>\n",
    "        </tr>\n",
    "        <tr>\n",
    "            <td style=\"border: 1px solid black; padding: 5px;\">fbs</td>\n",
    "            <td style=\"border: 1px solid black; padding: 5px;\">Fasting blood sugar level, categorized as true if above 120 mg/dl and false otherwise</td>\n",
    "        </tr>\n",
    "        <tr>\n",
    "            <td style=\"border: 1px solid black; padding: 5px;\">restecg</td>\n",
    "            <td style=\"border: 1px solid black; padding: 5px;\">Resting electrocardiographic results where norm: Normal, abn: Having ST-T wave abnormality, hyp: Showing probable or definite left ventricular hypertrophy</td>\n",
    "        </tr>\n",
    "        <tr>\n",
    "            <td style=\"border: 1px solid black; padding: 5px;\">thalach</td>\n",
    "            <td style=\"border: 1px solid black; padding: 5px;\">Maximum heart rate achieved during a thalium stress test</td>\n",
    "        </tr>\n",
    "        <tr>\n",
    "            <td style=\"border: 1px solid black; padding: 5px;\">exang</td>\n",
    "            <td style=\"border: 1px solid black; padding: 5px;\">Exercise-induced angina/chest pain (true = yes, false = no)</td>\n",
    "        </tr>\n",
    "        <tr>\n",
    "            <td style=\"border: 1px solid black; padding: 5px;\">oldpeak</td>\n",
    "            <td style=\"border: 1px solid black; padding: 5px;\">ST depression induced by exercise relative to rest</td>\n",
    "        </tr>\n",
    "        <tr>\n",
    "            <td style=\"border: 1px solid black; padding: 5px;\">slope</td>\n",
    "            <td style=\"border: 1px solid black; padding: 5px;\">Slope of the peak exercise ST segment: up: Upsloping, flat: Flat Slope, down: Downsloping</td>\n",
    "        </tr>\n",
    "        <tr>\n",
    "            <td style=\"border: 1px solid black; padding: 5px;\">ca</td>\n",
    "            <td style=\"border: 1px solid black; padding: 5px;\">Number of major vessels (0-4) colored by fluoroscopy</td>\n",
    "        </tr>\n",
    "        <tr>\n",
    "            <td style=\"border: 1px solid black; padding: 5px;\">thal</td>\n",
    "            <td style=\"border: 1px solid black; padding: 5px;\">Thalium stress test result of norm (Normal), fix (Fixed defect), rev (Reversible defect)</td>\n",
    "        </tr>\n",
    "        <tr>\n",
    "            <td style=\"border: 1px solid black; padding: 5px;\">heart_disease</td>\n",
    "            <td style=\"border: 1px solid black; padding: 5px;\">Buff means patient is healthy, while sick means patient has heart disease</td>\n",
    "        </tr>\n",
    "        <tr>\n",
    "            <td style=\"border: 1px solid black; padding: 5px;\">stage</td>\n",
    "            <td style=\"border: 1px solid black; padding: 5px;\">Stage of heart disease where H is healthy and S indicates heart disease with S1-S4 being least to most severe</td>\n",
    "        </tr>\n",
    "    </tbody>\n",
    "      <tfoot>\n",
    "  </tfoot>\n",
    "</table>\n",
    "<i style=\"font-size: 12px;\">Angina: chest pain caused by reduced blood flow to the heart</i>\n",
    "<br>\n",
    "<i style=\"font-size: 12px;\">ST:  portion of electrocardiogram graph that is often related to heart conditions\n",
    "</i>\n",
    "<br>\n",
    "<i style=\"font-size: 12px;\">Thalium stress test:  cardiac stress test induced either through physical exercise or intravenous pharmacological stimulation\n",
    "</i>\n"
   ]
  },
  {
   "cell_type": "markdown",
   "metadata": {},
   "source": [
    "So our variables are comprised of two demographic ones (age and sex) and the rest are clinical metrics like ECG readings or blood pressure that are likely related to heart disease. We also have a mix of both categorical variables like sex and continuous ones like cholesterol levels. Our target variable that we will try to predict with our model is heart_disease. We could have our model try to predict the stage of heart disease as well but we'll keep things simple for our model so that it can give us the best prediction, We'll just focus on classifying whether a patient has heart disease or not.   "
   ]
  },
  {
   "cell_type": "markdown",
   "metadata": {},
   "source": [
    "### **Check For Missing Values**"
   ]
  },
  {
   "cell_type": "markdown",
   "metadata": {},
   "source": [
    "Let's have a quick look somewhere in the middle of our data "
   ]
  },
  {
   "cell_type": "code",
   "execution_count": 260,
   "metadata": {},
   "outputs": [
    {
     "data": {
      "text/html": [
       "<div>\n",
       "<style scoped>\n",
       "    .dataframe tbody tr th:only-of-type {\n",
       "        vertical-align: middle;\n",
       "    }\n",
       "\n",
       "    .dataframe tbody tr th {\n",
       "        vertical-align: top;\n",
       "    }\n",
       "\n",
       "    .dataframe thead th {\n",
       "        text-align: right;\n",
       "    }\n",
       "</style>\n",
       "<table border=\"1\" class=\"dataframe\">\n",
       "  <thead>\n",
       "    <tr style=\"text-align: right;\">\n",
       "      <th></th>\n",
       "      <th>age</th>\n",
       "      <th>sex</th>\n",
       "      <th>cp</th>\n",
       "      <th>trestbps</th>\n",
       "      <th>chol</th>\n",
       "      <th>fbs</th>\n",
       "      <th>restecg</th>\n",
       "      <th>thalach</th>\n",
       "      <th>exang</th>\n",
       "      <th>oldpeak</th>\n",
       "      <th>slope</th>\n",
       "      <th>ca</th>\n",
       "      <th>thal</th>\n",
       "      <th>heart_disease</th>\n",
       "      <th>stage</th>\n",
       "    </tr>\n",
       "  </thead>\n",
       "  <tbody>\n",
       "    <tr>\n",
       "      <th>80</th>\n",
       "      <td>44.0</td>\n",
       "      <td>male</td>\n",
       "      <td>notang</td>\n",
       "      <td>140.0</td>\n",
       "      <td>235.0</td>\n",
       "      <td>fal</td>\n",
       "      <td>hyp</td>\n",
       "      <td>180.0</td>\n",
       "      <td>fal</td>\n",
       "      <td>0.0</td>\n",
       "      <td>up</td>\n",
       "      <td>0.0</td>\n",
       "      <td>norm</td>\n",
       "      <td>buff</td>\n",
       "      <td>H</td>\n",
       "    </tr>\n",
       "    <tr>\n",
       "      <th>81</th>\n",
       "      <td>47.0</td>\n",
       "      <td>male</td>\n",
       "      <td>notang</td>\n",
       "      <td>138.0</td>\n",
       "      <td>257.0</td>\n",
       "      <td>fal</td>\n",
       "      <td>hyp</td>\n",
       "      <td>156.0</td>\n",
       "      <td>fal</td>\n",
       "      <td>0.0</td>\n",
       "      <td>up</td>\n",
       "      <td>0.0</td>\n",
       "      <td>norm</td>\n",
       "      <td>buff</td>\n",
       "      <td>H</td>\n",
       "    </tr>\n",
       "    <tr>\n",
       "      <th>82</th>\n",
       "      <td>53.0</td>\n",
       "      <td>fem</td>\n",
       "      <td>notang</td>\n",
       "      <td>128.0</td>\n",
       "      <td>216.0</td>\n",
       "      <td>fal</td>\n",
       "      <td>hyp</td>\n",
       "      <td>115.0</td>\n",
       "      <td>fal</td>\n",
       "      <td>0.0</td>\n",
       "      <td>up</td>\n",
       "      <td>0.0</td>\n",
       "      <td>?</td>\n",
       "      <td>buff</td>\n",
       "      <td>H</td>\n",
       "    </tr>\n",
       "    <tr>\n",
       "      <th>83</th>\n",
       "      <td>53.0</td>\n",
       "      <td>fem</td>\n",
       "      <td>asympt</td>\n",
       "      <td>138.0</td>\n",
       "      <td>234.0</td>\n",
       "      <td>fal</td>\n",
       "      <td>hyp</td>\n",
       "      <td>160.0</td>\n",
       "      <td>fal</td>\n",
       "      <td>0.0</td>\n",
       "      <td>up</td>\n",
       "      <td>0.0</td>\n",
       "      <td>norm</td>\n",
       "      <td>buff</td>\n",
       "      <td>H</td>\n",
       "    </tr>\n",
       "    <tr>\n",
       "      <th>84</th>\n",
       "      <td>51.0</td>\n",
       "      <td>fem</td>\n",
       "      <td>notang</td>\n",
       "      <td>130.0</td>\n",
       "      <td>256.0</td>\n",
       "      <td>fal</td>\n",
       "      <td>hyp</td>\n",
       "      <td>149.0</td>\n",
       "      <td>fal</td>\n",
       "      <td>0.5</td>\n",
       "      <td>up</td>\n",
       "      <td>0.0</td>\n",
       "      <td>norm</td>\n",
       "      <td>buff</td>\n",
       "      <td>H</td>\n",
       "    </tr>\n",
       "  </tbody>\n",
       "</table>\n",
       "</div>"
      ],
      "text/plain": [
       "     age   sex      cp trestbps   chol  fbs restecg thalach exang oldpeak  \\\n",
       "80  44.0  male  notang    140.0  235.0  fal     hyp   180.0   fal     0.0   \n",
       "81  47.0  male  notang    138.0  257.0  fal     hyp   156.0   fal     0.0   \n",
       "82  53.0   fem  notang    128.0  216.0  fal     hyp   115.0   fal     0.0   \n",
       "83  53.0   fem  asympt    138.0  234.0  fal     hyp   160.0   fal     0.0   \n",
       "84  51.0   fem  notang    130.0  256.0  fal     hyp   149.0   fal     0.5   \n",
       "\n",
       "   slope   ca  thal heart_disease stage  \n",
       "80    up  0.0  norm          buff     H  \n",
       "81    up  0.0  norm          buff     H  \n",
       "82    up  0.0     ?          buff     H  \n",
       "83    up  0.0  norm          buff     H  \n",
       "84    up  0.0  norm          buff     H  "
      ]
     },
     "metadata": {},
     "output_type": "display_data"
    }
   ],
   "source": [
    "display(df.iloc[80: 85]) "
   ]
  },
  {
   "cell_type": "markdown",
   "metadata": {},
   "source": [
    "Oh no! It looks like row 82 has a question mark for its thal variable. We most likely have missing data in our dataset which is marked with question marks. Lets remove all rows that have missing data. "
   ]
  },
  {
   "cell_type": "code",
   "execution_count": 261,
   "metadata": {},
   "outputs": [
    {
     "data": {
      "text/html": [
       "<div>\n",
       "<style scoped>\n",
       "    .dataframe tbody tr th:only-of-type {\n",
       "        vertical-align: middle;\n",
       "    }\n",
       "\n",
       "    .dataframe tbody tr th {\n",
       "        vertical-align: top;\n",
       "    }\n",
       "\n",
       "    .dataframe thead th {\n",
       "        text-align: right;\n",
       "    }\n",
       "</style>\n",
       "<table border=\"1\" class=\"dataframe\">\n",
       "  <thead>\n",
       "    <tr style=\"text-align: right;\">\n",
       "      <th></th>\n",
       "      <th>age</th>\n",
       "      <th>sex</th>\n",
       "      <th>cp</th>\n",
       "      <th>trestbps</th>\n",
       "      <th>chol</th>\n",
       "      <th>fbs</th>\n",
       "      <th>restecg</th>\n",
       "      <th>thalach</th>\n",
       "      <th>exang</th>\n",
       "      <th>oldpeak</th>\n",
       "      <th>slope</th>\n",
       "      <th>ca</th>\n",
       "      <th>thal</th>\n",
       "      <th>heart_disease</th>\n",
       "      <th>stage</th>\n",
       "    </tr>\n",
       "  </thead>\n",
       "  <tbody>\n",
       "    <tr>\n",
       "      <th>80</th>\n",
       "      <td>44.0</td>\n",
       "      <td>male</td>\n",
       "      <td>notang</td>\n",
       "      <td>140.0</td>\n",
       "      <td>235.0</td>\n",
       "      <td>fal</td>\n",
       "      <td>hyp</td>\n",
       "      <td>180.0</td>\n",
       "      <td>fal</td>\n",
       "      <td>0.0</td>\n",
       "      <td>up</td>\n",
       "      <td>0.0</td>\n",
       "      <td>norm</td>\n",
       "      <td>buff</td>\n",
       "      <td>H</td>\n",
       "    </tr>\n",
       "    <tr>\n",
       "      <th>81</th>\n",
       "      <td>47.0</td>\n",
       "      <td>male</td>\n",
       "      <td>notang</td>\n",
       "      <td>138.0</td>\n",
       "      <td>257.0</td>\n",
       "      <td>fal</td>\n",
       "      <td>hyp</td>\n",
       "      <td>156.0</td>\n",
       "      <td>fal</td>\n",
       "      <td>0.0</td>\n",
       "      <td>up</td>\n",
       "      <td>0.0</td>\n",
       "      <td>norm</td>\n",
       "      <td>buff</td>\n",
       "      <td>H</td>\n",
       "    </tr>\n",
       "    <tr>\n",
       "      <th>83</th>\n",
       "      <td>53.0</td>\n",
       "      <td>fem</td>\n",
       "      <td>asympt</td>\n",
       "      <td>138.0</td>\n",
       "      <td>234.0</td>\n",
       "      <td>fal</td>\n",
       "      <td>hyp</td>\n",
       "      <td>160.0</td>\n",
       "      <td>fal</td>\n",
       "      <td>0.0</td>\n",
       "      <td>up</td>\n",
       "      <td>0.0</td>\n",
       "      <td>norm</td>\n",
       "      <td>buff</td>\n",
       "      <td>H</td>\n",
       "    </tr>\n",
       "    <tr>\n",
       "      <th>84</th>\n",
       "      <td>51.0</td>\n",
       "      <td>fem</td>\n",
       "      <td>notang</td>\n",
       "      <td>130.0</td>\n",
       "      <td>256.0</td>\n",
       "      <td>fal</td>\n",
       "      <td>hyp</td>\n",
       "      <td>149.0</td>\n",
       "      <td>fal</td>\n",
       "      <td>0.5</td>\n",
       "      <td>up</td>\n",
       "      <td>0.0</td>\n",
       "      <td>norm</td>\n",
       "      <td>buff</td>\n",
       "      <td>H</td>\n",
       "    </tr>\n",
       "    <tr>\n",
       "      <th>85</th>\n",
       "      <td>66.0</td>\n",
       "      <td>male</td>\n",
       "      <td>asympt</td>\n",
       "      <td>120.0</td>\n",
       "      <td>302.0</td>\n",
       "      <td>fal</td>\n",
       "      <td>hyp</td>\n",
       "      <td>151.0</td>\n",
       "      <td>fal</td>\n",
       "      <td>0.4</td>\n",
       "      <td>flat</td>\n",
       "      <td>0.0</td>\n",
       "      <td>norm</td>\n",
       "      <td>buff</td>\n",
       "      <td>H</td>\n",
       "    </tr>\n",
       "  </tbody>\n",
       "</table>\n",
       "</div>"
      ],
      "text/plain": [
       "     age   sex      cp trestbps   chol  fbs restecg thalach exang oldpeak  \\\n",
       "80  44.0  male  notang    140.0  235.0  fal     hyp   180.0   fal     0.0   \n",
       "81  47.0  male  notang    138.0  257.0  fal     hyp   156.0   fal     0.0   \n",
       "83  53.0   fem  asympt    138.0  234.0  fal     hyp   160.0   fal     0.0   \n",
       "84  51.0   fem  notang    130.0  256.0  fal     hyp   149.0   fal     0.5   \n",
       "85  66.0  male  asympt    120.0  302.0  fal     hyp   151.0   fal     0.4   \n",
       "\n",
       "   slope   ca  thal heart_disease stage  \n",
       "80    up  0.0  norm          buff     H  \n",
       "81    up  0.0  norm          buff     H  \n",
       "83    up  0.0  norm          buff     H  \n",
       "84    up  0.0  norm          buff     H  \n",
       "85  flat  0.0  norm          buff     H  "
      ]
     },
     "metadata": {},
     "output_type": "display_data"
    }
   ],
   "source": [
    "# Lets validate each row and remove any rows with missing values \n",
    "\n",
    "# Mark a row valid if it doesn't have ? \n",
    "df[\"Valid_Row\"] = df.apply(lambda x: False if (\"?\" in list(x)) else True, axis=1)\n",
    "# filter the df based on valid rows \n",
    "df = df[df[\"Valid_Row\"]]\n",
    "# finally remove the temporary column we created\n",
    "df = df.drop(\"Valid_Row\", axis=1)\n",
    "\n",
    "display(df.iloc[80:85])"
   ]
  },
  {
   "cell_type": "markdown",
   "metadata": {},
   "source": [
    "Yay! We succesfully deleted all the rows that have a question mark as one of their values. Now lets check the types of our variables in the dataframe. "
   ]
  },
  {
   "cell_type": "code",
   "execution_count": 262,
   "metadata": {},
   "outputs": [
    {
     "name": "stdout",
     "output_type": "stream",
     "text": [
      "age              object\n",
      "sex              object\n",
      "cp               object\n",
      "trestbps         object\n",
      "chol             object\n",
      "fbs              object\n",
      "restecg          object\n",
      "thalach          object\n",
      "exang            object\n",
      "oldpeak          object\n",
      "slope            object\n",
      "ca               object\n",
      "thal             object\n",
      "heart_disease    object\n",
      "stage            object\n",
      "dtype: object\n"
     ]
    }
   ],
   "source": [
    "print(df.dtypes)"
   ]
  },
  {
   "cell_type": "markdown",
   "metadata": {},
   "source": [
    "It looks like some of our continuous variables like age or cholesterol got set as an object/string. That would cause some issues when we try to train our model or plot data. Let's convert them to the correct type"
   ]
  },
  {
   "cell_type": "code",
   "execution_count": 263,
   "metadata": {},
   "outputs": [
    {
     "name": "stdout",
     "output_type": "stream",
     "text": [
      "age              float64\n",
      "sex               object\n",
      "cp                object\n",
      "trestbps         float64\n",
      "chol             float64\n",
      "fbs               object\n",
      "restecg           object\n",
      "thalach          float64\n",
      "exang             object\n",
      "oldpeak          float64\n",
      "slope             object\n",
      "ca                object\n",
      "thal              object\n",
      "heart_disease     object\n",
      "stage             object\n",
      "dtype: object\n"
     ]
    }
   ],
   "source": [
    "# Specify continuous variables we want to convert \n",
    "continuous_variables = [\"age\",\n",
    "\"trestbps\",\n",
    "\"chol\",\n",
    "\"thalach\",\n",
    "\"oldpeak\"]\n",
    "\n",
    "# Convert continuous variables to float\n",
    "df[continuous_variables] = df[continuous_variables].apply(lambda x: x.astype(float))\n",
    "print(df.dtypes)"
   ]
  },
  {
   "cell_type": "markdown",
   "metadata": {},
   "source": [
    "Nice! Now all our continuous variables are in the correct type. But we still have categorical variables that are not encoded. We will need to encode them before we can train our model, but before that let's do some exploratory data analysis to see if we can find any interesting patterns in our data."
   ]
  },
  {
   "cell_type": "markdown",
   "metadata": {},
   "source": [
    "## Part 3: Exploratory Data Analysis"
   ]
  },
  {
   "cell_type": "markdown",
   "metadata": {},
   "source": [
    "### **Visualizing Distributions** \n",
    "Now that we have our data in a good format, let's do some exploratory data analysis. We will start by looking at the distribution of our target variable. "
   ]
  },
  {
   "cell_type": "code",
   "execution_count": 264,
   "metadata": {},
   "outputs": [
    {
     "data": {
      "image/png": "[encoded data removed]",
      "text/plain": [
       "<Figure size 1200x500 with 2 Axes>"
      ]
     },
     "metadata": {},
     "output_type": "display_data"
    }
   ],
   "source": [
    "heart_disease_counts = df['heart_disease'].value_counts()\n",
    "stage_counts = df['stage'].value_counts()\n",
    "\n",
    "# Plot side by side\n",
    "fig, axes = plt.subplots(1, 2, figsize=(12, 5))\n",
    "\n",
    "# Heart disease distribution\n",
    "heart_disease_counts.plot(kind='bar', ax=axes[0], color=['lightgreen','red'], title='Heart Disease Presence')\n",
    "axes[0].set_xlabel('Heart Disease')\n",
    "axes[0].set_ylabel('Count')\n",
    "\n",
    "# Heart disease stage distribution\n",
    "stage_counts.plot(kind='bar', ax=axes[1], color=(['lightgreen'] +[\"red\"]*4), title='Heart Disease Stage')\n",
    "axes[1].set_xlabel('Heart Disease Stage')\n",
    "axes[1].set_ylabel('Count')\n",
    "plt.tight_layout()\n",
    "\n",
    "plt.show()"
   ]
  },
  {
   "cell_type": "markdown",
   "metadata": {},
   "source": [
    "\n",
    "Looking at our plots, we see that our data for our target variable isn't very skewed. There are slightly more patients without heart disease (buff) than with heart disease (sick), but the distribution is fairly even. We also see that among the patients with heart disease, patients with stage 4 heart disease are the least common.\n",
    "\n",
    "We can also look at the distribution of chest pain experienced by patients in relation to heart disease\n",
    "\n"
   ]
  },
  {
   "cell_type": "code",
   "execution_count": 265,
   "metadata": {},
   "outputs": [
    {
     "data": {
      "image/png": "[encoded data removed]",
      "text/plain": [
       "<Figure size 1000x600 with 1 Axes>"
      ]
     },
     "metadata": {},
     "output_type": "display_data"
    }
   ],
   "source": [
    "# Group heart disease data by chest pain type\n",
    "cp_heart_disease = pd.crosstab(df['cp'], df['heart_disease'])\n",
    "\n",
    "# Plot grouped bar chart\n",
    "cp_heart_disease.plot(kind='bar', figsize=(10, 6), color=['lightgreen', 'red'], title='Chest Pain Type vs Heart Disease')\n",
    "plt.xlabel('Chest Pain Type')\n",
    "plt.ylabel('Count')\n",
    "plt.legend( labels=['Healthy (buff)', 'Heart Disease (sick)'])\n",
    "plt.xticks(rotation=0)\n",
    "plt.tight_layout()\n",
    "plt.show()"
   ]
  },
  {
   "cell_type": "markdown",
   "metadata": {},
   "source": [
    "Very interesting! It looks like most patients with heart disease have asymptomatic chest pain, meaning they don't experience any pain or symptoms at all. In contrast, we  see that patients without heart disease seem to be spread out around the different types of chest pain, but for some reason, those with heart disease are all concentrated in the asymptomatic category. \n",
    "\n",
    "Now let's look at the distribution of our demographic variables: gender and age"
   ]
  },
  {
   "cell_type": "code",
   "execution_count": 266,
   "metadata": {},
   "outputs": [
    {
     "data": {
      "image/png": "[encoded data removed]",
      "text/plain": [
       "<Figure size 1200x500 with 2 Axes>"
      ]
     },
     "metadata": {},
     "output_type": "display_data"
    }
   ],
   "source": [
    "# Plot them side by side\n",
    "fig, axes = plt.subplots(1, 2, figsize=(12, 5))\n",
    "\n",
    "# Age histogram\n",
    "df['age'].plot(kind='hist', bins=30, ax=axes[0], edgecolor='black', title='Age ')\n",
    "axes[0].axvline(df['age'].mean(), color='red', linestyle='dashed', linewidth=1.5, label=f'Mean: {df[\"age\"].mean():.2f}')\n",
    "axes[0].set_xlabel('Age')\n",
    "axes[0].set_ylabel('Count')\n",
    "axes[0].legend()\n",
    "\n",
    "# Pie chart for gender\n",
    "df['sex'].value_counts().plot(kind='pie', ax=axes[1], autopct='%1.1f%%', title='Gender ')\n",
    "axes[1].set_ylabel('')  # Remove y-axis label for pie chart\n",
    "\n",
    "plt.tight_layout()\n",
    "plt.show()"
   ]
  },
  {
   "cell_type": "markdown",
   "metadata": {},
   "source": [
    "We see that most patients are around their 50s and 60s, with only a few younger patients in their 20s and 30s. For gender, we see a predominately male population with only ~30% of the patients being female. Overall, we see that our patients tend to be on the older side and are majority male.\n",
    "\n",
    "What about the distribution of our medical measurements like blood pressure and cholesterol levels? Well, let's take a look at them. "
   ]
  },
  {
   "cell_type": "code",
   "execution_count": 267,
   "metadata": {},
   "outputs": [
    {
     "data": {
      "image/png": "[encoded data removed]",
      "text/plain": [
       "<Figure size 1200x500 with 2 Axes>"
      ]
     },
     "metadata": {},
     "output_type": "display_data"
    }
   ],
   "source": [
    "# Get means\n",
    "mean_trestbps = df['trestbps'].mean()\n",
    "mean_chol = df['chol'].mean()\n",
    "\n",
    "# Plot histograms side by side\n",
    "fig, axes = plt.subplots(1, 2, figsize=(12, 5))\n",
    "\n",
    "# Histogram for resting blood pressure\n",
    "df['trestbps'].plot(kind='hist', bins=50, ax=axes[0], edgecolor='black', title='Resting Blood Pressure ')\n",
    "axes[0].axvline(mean_trestbps, color='red', linestyle='dashed', linewidth=1.5, label=f'Mean: {mean_trestbps:.2f}')\n",
    "axes[0].set_xlabel('Resting Blood Pressure (mm Hg)')\n",
    "axes[0].set_ylabel('Count')\n",
    "axes[0].legend()\n",
    "\n",
    "# Histogram for cholesterol\n",
    "df['chol'].plot(kind='hist', bins=50, ax=axes[1], edgecolor='black', title='Cholesterol ')\n",
    "axes[1].axvline(mean_chol, color='red', linestyle='dashed', linewidth=1.5, label=f'Mean: {mean_chol:.2f}')\n",
    "axes[1].set_xlabel('Cholesterol (mg/dl)')\n",
    "axes[1].set_ylabel('Count')\n",
    "axes[1].legend()\n",
    "\n",
    "plt.tight_layout()\n",
    "plt.show()"
   ]
  },
  {
   "cell_type": "markdown",
   "metadata": {},
   "source": [
    "For the cholesterol distribution, we see that there are one or two outliers with very high cholesterol levels (> 500 mg/dl), but for the most part, the cholesterol levels are fairly evenly distributed with a mean of 248 mg/dl. For our resting blood pressure graph, we see that the distribution is not normal at all and has a lot of pronounced spikes in count at certain blood pressures. This might be due to the way the blood pressure was measured like some tendency of the measurement device to round to the nearest 5 mm Hg, but we don't really know for certain.\n"
   ]
  },
  {
   "cell_type": "markdown",
   "metadata": {},
   "source": [
    "### **Hypothesis Testing**\n",
    "Now that we have a good understanding of the distribution of our dataset, let's look at the the significance of some of our variables with respect to heart disease"
   ]
  },
  {
   "cell_type": "markdown",
   "metadata": {},
   "source": [
    "#### Age and Heart Disease: Is it significant?\n",
    "Let's try to find out if age is truly significant when it comes to having heart disease. We can do this by conducting a t-test to compare the mean age between patients with and without heart disease. We'll have a 5% significance level and use a two tailed t-test. We'll define our hypothesis as follows:  \n",
    "\n",
    "H0: The difference between the mean age of patients with and without heart disease is 0\n",
    "\n",
    "HA: The difference between means is not 0"
   ]
  },
  {
   "cell_type": "code",
   "execution_count": 268,
   "metadata": {},
   "outputs": [
    {
     "data": {
      "text/plain": [
       "'T-test results for Age distribution: t-stat=-4.028, p-value=0.000'"
      ]
     },
     "metadata": {},
     "output_type": "display_data"
    }
   ],
   "source": [
    "# Seperate our age data into two groups based on heart disease\n",
    "group_0 = df[df[\"heart_disease\"] == \"buff\"]['age']\n",
    "group_1 = df[df[\"heart_disease\"] == \"sick\"]['age']\n",
    "\n",
    "# Perform two tailed t-test comparing mean of both groups\n",
    "stat, p_value = stats.ttest_ind(group_0, group_1, equal_var=False)\n",
    "display(f\"T-test results for Age distribution: t-stat={stat:.3f}, p-value={p_value:.3f}\")\n",
    "\n"
   ]
  },
  {
   "cell_type": "markdown",
   "metadata": {},
   "source": [
    "We end up with a p-value less than our significance level (.05), so we end up rejecting our null hypothesis and accepting our alternate hypothesis which indicates that there is a significant difference between means in our two groups. \n",
    "\n",
    "Let's visualize this as well by creating a histplot for each group"
   ]
  },
  {
   "cell_type": "code",
   "execution_count": 269,
   "metadata": {},
   "outputs": [
    {
     "data": {
      "image/png": "[encoded data removed]",
      "text/plain": [
       "<Figure size 1000x600 with 1 Axes>"
      ]
     },
     "metadata": {},
     "output_type": "display_data"
    }
   ],
   "source": [
    "plt.figure(figsize=(10, 6))\n",
    "sns.histplot(group_0, label=\"No Heart Disease\", color=\"blue\", kde=True, bins=20, alpha=0.6)\n",
    "sns.histplot(group_1, label=\"Heart Disease\", color=\"red\", kde=True, bins=20, alpha=0.6)\n",
    "plt.xlabel(\"Age\")\n",
    "plt.ylabel(\"Count\")\n",
    "plt.title(\"Age Distribution by Heart Disease Status\")\n",
    "plt.legend()\n",
    "plt.show()\n",
    "\n"
   ]
  },
  {
   "cell_type": "markdown",
   "metadata": {},
   "source": [
    "\n",
    "Looking at the graph, it's pretty clear that the age of a patient is significantly correlated to whether or not they have heart disease. this makes sense since usually older patients are more at risk to diseases like heart disease. We can see this trend in histogram/lineplot graph where the no heart disease group is cleary skewed towards the lower/younger ages."
   ]
  },
  {
   "cell_type": "markdown",
   "metadata": {},
   "source": [
    "#### What about Gender?\n",
    "We know that age is significant, but is our other demographic variable, gender, significant as well? Let's conduct a chi squared test in order to see the effect between our categorical variable, gender, and the presence of heart disease. We'll have the same significance level as before and and our hypothesis is: \n",
    "\n",
    "H0: There is no relationship between type of gender and the presence of heart disease \n",
    "\n",
    "HA: There is a relationship between the type of gender and the presence of heart disease "
   ]
  },
  {
   "cell_type": "code",
   "execution_count": 270,
   "metadata": {},
   "outputs": [
    {
     "name": "stdout",
     "output_type": "stream",
     "text": [
      "Chi-square test for Gender vs Heart Disease: chi2=22.886, p-value=0.000\n"
     ]
    }
   ],
   "source": [
    "# Get crosstab which  splits gender by whether or not they have heart disease\n",
    "# We reindex to ensure we have True and False in the columns\n",
    "gender_heart_disease = pd.crosstab(df[\"sex\"], df['heart_disease']  == \"sick\").reindex([True, False],axis=\"columns\")\n",
    "# Then we can just pass our crosstab to the chi2 function \n",
    "chi2, p, dof, expected = stats.chi2_contingency(gender_heart_disease)\n",
    "\n",
    "print(f\"Chi-square test for Gender vs Heart Disease: chi2={chi2:.3f}, p-value={p:.3f}\")"
   ]
  },
  {
   "cell_type": "markdown",
   "metadata": {},
   "source": [
    "We end up with a p-value less than our sig. level, so we end up rejecting our null hypothesis and accepting our HA, indicating that there is a significant association between gender and presence of heart disease. \n",
    "\n",
    "Let's visualize again. We'll make a stacked bar chart for Male and Female and have each bar represent the porportion of that gender with and without heart disease."
   ]
  },
  {
   "cell_type": "code",
   "execution_count": 271,
   "metadata": {},
   "outputs": [
    {
     "data": {
      "image/png": "[encoded data removed]",
      "text/plain": [
       "<Figure size 800x600 with 1 Axes>"
      ]
     },
     "metadata": {},
     "output_type": "display_data"
    }
   ],
   "source": [
    "# We want the porportion of heart disease for each gender\n",
    "# We can get that by diving the gender_heart_disease crosstab by the sum of each row \n",
    "heart_disease_sum  = gender_heart_disease.sum(axis=1)\n",
    "heart_disease_porportions = gender_heart_disease.div(heart_disease_sum, axis=0)\n",
    "# Plot the proportions\n",
    "heart_disease_porportions.plot(kind='bar', stacked=True, colormap='coolwarm_r', figsize=(8, 6))\n",
    "plt.xlabel(\"Gender\")\n",
    "plt.ylabel(\"Proportion\")\n",
    "plt.title(\"Proportion of Heart Disease by Gender\")\n",
    "plt.legend([\"Heart Disease\", \"No Heart Disease\"], title=\"Condition\")\n",
    "plt.show()"
   ]
  },
  {
   "cell_type": "markdown",
   "metadata": {},
   "source": [
    "We observe that our bar graph, which shows the porportion of heart disease for each gender, fits our results from the chi squared test really well since it's clear to see that the porportion of Males with heart disease is significantly higher than that of Females. \n",
    "\n",
    "\n",
    "# Maybe add in another hypothesis test\n",
    "\n",
    "Now that we have a pretty good idea about how our data looks and how our features are significant, we can move on to the fun part of our project: building a classification model to predict heart disease.\n",
    "\n"
   ]
  },
  {
   "cell_type": "markdown",
   "metadata": {},
   "source": [
    "## Part 4: Primary Analysis: Classification\n",
    "\n"
   ]
  },
  {
   "cell_type": "markdown",
   "metadata": {},
   "source": [
    "Before we continue let's separate our dataset into X, our features, and y, our target variable. Since we aren't going to be using the heart disease stage variable, we will drop it as well.  "
   ]
  },
  {
   "cell_type": "code",
   "execution_count": 272,
   "metadata": {},
   "outputs": [],
   "source": [
    "y = df[\"heart_disease\"]\n",
    "X = df.drop(columns=[\"heart_disease\", \"stage\"])\n"
   ]
  },
  {
   "cell_type": "markdown",
   "metadata": {},
   "source": [
    "### **Dealing With Categorical Variables**"
   ]
  },
  {
   "cell_type": "markdown",
   "metadata": {},
   "source": [
    "Before we can train our model, we need to deal with our categorical variables so that our models can understand them. Dealing with our target variable heart_disease is easy since it's binary, we just assign 1 for sick which indicates heart disesase and 0 for buff (no heart disease). But what do we do for variables like chest pain which is categorical but not binary (has more than two values)? That's where one hot encoding comes in. One hot encoding is a way to convert categorical variables into binary variables so that our models can understand them. \n",
    "\n",
    "For example, if we have a categorical variable with three values (A, B, C), we can create three new binary variables (A, B, C) where each variable is 1 if the original variable was that value and 0 otherwise. So if our original variable was A, then A would be 1 and B and C would be 0. If you want to learn more about one hot encoding, you can read about it <a href=\"https://machinelearningmastery.com/one-hot-encoding-understanding-the-hot-in-data/\">here</a>.\n",
    "\n",
    "Now let's encode our categorical variables! "
   ]
  },
  {
   "cell_type": "code",
   "execution_count": 273,
   "metadata": {},
   "outputs": [
    {
     "name": "stdout",
     "output_type": "stream",
     "text": [
      "    age  trestbps   chol  thalach  oldpeak  sex_male  cp_angina  cp_asympt  \\\n",
      "0  63.0     145.0  233.0    150.0      2.3         1          1          0   \n",
      "1  67.0     160.0  286.0    108.0      1.5         1          0          1   \n",
      "2  67.0     120.0  229.0    129.0      2.6         1          0          1   \n",
      "3  37.0     130.0  250.0    187.0      3.5         1          0          0   \n",
      "4  41.0     130.0  204.0    172.0      1.4         0          0          0   \n",
      "\n",
      "   cp_notang  fbs_true  restecg_hyp  restecg_norm  exang_true  slope_flat  \\\n",
      "0          0         1            1             0           0           0   \n",
      "1          0         0            1             0           1           1   \n",
      "2          0         0            1             0           1           1   \n",
      "3          1         0            0             1           0           0   \n",
      "4          0         0            1             0           0           0   \n",
      "\n",
      "   slope_up  ca_1.0  ca_2.0  ca_3.0  thal_norm  thal_rev  \n",
      "0         0       0       0       0          0         0  \n",
      "1         0       0       0       1          1         0  \n",
      "2         0       0       1       0          0         1  \n",
      "3         0       0       0       0          1         0  \n",
      "4         1       0       0       0          1         0  \n"
     ]
    }
   ],
   "source": [
    "# Transform the target variable to binary (1 for sick, 0 for buff)\n",
    "y = y.apply(lambda x: 1 if x == \"sick\" else 0)\n",
    "\n",
    "# Convert categorical variables to dummy variables using One-Hot Encoding\n",
    "# use dtype=int or we'll get as True and False \n",
    "X = pd.get_dummies(X, drop_first=True, dtype=int)\n",
    "print(X.head())"
   ]
  },
  {
   "cell_type": "markdown",
   "metadata": {},
   "source": [
    "First, we transformed our target variable heart_disease into a binary variable. We assigned 1 to sick and 0 to buff. Then we used the`get_dummies` function from pandas to perform One-Hot-Enconding. The function creates a new column for each category in our categorical variable and assign a 1 or 0 to indicate whether that category is present or not. \n",
    "\n",
    "If we look at the results from `display(X.head())` we see that `get_dummies` created some columns for each category in our categorical variables. For example, for the chest pain variable, we have 3 new columns: cp_angina, cp_asympt, and cp_notang (note that there is no cp_abnang since we can implicitly get its value by looking at the other 3 variables). This worked exactly how we wanted it to. Now we can train our model without worrying about categorical variables!\n",
    "\n",
    "Also if you are wondering why get_dummies did not encode age, trestbps, or our other continuous variables despite passing in the whole dataframe `X` to the function, it's because `get_dummies` looks at the `dtype` for each column and only encodes the object/string ones. Since we already converted our continuous variables to the correct type, we didn't have to worry about them being encoded. "
   ]
  },
  {
   "cell_type": "markdown",
   "metadata": {},
   "source": [
    "### **Splitting the Data**\n",
    "Now that we have our data in a good format, we can split our data into training and testing sets. We will use 80% of our data for training and 20% for testing. We will set a random state so that we can reproduce our results. "
   ]
  },
  {
   "cell_type": "code",
   "execution_count": 274,
   "metadata": {},
   "outputs": [],
   "source": [
    "# seed for reproducing results\n",
    "seed = 31\n",
    "# Split the data into training and testing sets \n",
    "X_train, X_test, y_train, y_test = train_test_split(X, y, test_size=0.2, random_state=seed)"
   ]
  },
  {
   "cell_type": "markdown",
   "metadata": {},
   "source": [
    "We use `train_test_split` from sklearn to split our data. The function takes in our features `X`, target variable `y`, and the test size as a fraction of the total data. It returns 4 variables: X_train, X_test, y_train, and y_test which are our training and testing sets for features and target variable respectively.\n",
    "\n",
    "Now we are going to normalize our features. It's important because it helps our model converge faster and perform better, without any one feature overshadowing the others. We will use the `StandardScaler` from sklearn to normalize our data. The `StandardScaler` standardizes features by removing the mean and scaling to unit variance, essentially transforming the data into a z-score. A very important thing that's easy to miss is that we need to fit our scaler on the `X_train` only and then transform the `X_train` and `X_test` data. If we were to fit the scaler on the original unsplit `X` data, we would be leaking information from our test set into our training set which could cause our model to overfit and perform poorly on unseen data."
   ]
  },
  {
   "cell_type": "code",
   "execution_count": 275,
   "metadata": {},
   "outputs": [],
   "source": [
    "StandardScaler = StandardScaler()\n",
    "# Fit the scaler to the training data\n",
    "StandardScaler.fit(X_train)\n",
    "# Transform the training data\n",
    "X_train_scaled = StandardScaler.transform(X_train)\n",
    "# Transform the testing data \n",
    "X_test_scaled = StandardScaler.transform(X_test)\n",
    "# NOTE: We use the same scaler fitted on the training data to transform the test data\n"
   ]
  },
  {
   "cell_type": "markdown",
   "metadata": {},
   "source": [
    "We succesfully normalized our data! \n",
    "\n",
    "Now we can move on to the fun part of our project: building a classification model to predict heart disease. We are going to be using Random Forest Classifier from sklearn. Random Forest is an ensemble learning method that combines multiple decision trees to improve the accuracy of the model. It works by creating a forest of decision trees and averaging their predictions to make a final prediction. Random Forest is a great choice for our dataset because it can handle both categorical and continuous variables, and it is less prone to overfitting than a single decision tree. \n",
    "\n",
    "You can learn more about it <a href=\"https://www.ibm.com/think/topics/random-forest\">here</a>."
   ]
  },
  {
   "cell_type": "code",
   "execution_count": 285,
   "metadata": {},
   "outputs": [],
   "source": [
    "rand_forest = RandomForestClassifier(random_state=seed)"
   ]
  },
  {
   "cell_type": "markdown",
   "metadata": {},
   "source": [
    "Now we are going to perform k-fold cross validation to evaluate our model. K-fold cross validation is a technique that splits our data into k subsets and trains the model k times, each time using a different subset as the test set and the rest as the training set. It helps us to get a better idea of how our model will perform on the datset and is super useful for things like tuning hyperparameters or comparing performance between different models. \n",
    "\n",
    "For our case we will use 5 folds. We will use the `cross_val_score` function from sklearn to perform the cross validation along with `StratifiedKFold` which creates our folds in a way that ensures that each fold has the same proportion of classes as the original dataset. corss_val_score takes in our model, features, target variable, the number of folds as parameters. It returns an array of scores for each fold, where the scores represent the accuracy of our model. We will use the mean of the scores as our final score for the model."
   ]
  },
  {
   "cell_type": "code",
   "execution_count": 286,
   "metadata": {},
   "outputs": [
    {
     "name": "stdout",
     "output_type": "stream",
     "text": [
      "Random Forest: mean score of 0.8047 and std of 0.0614\n",
      "Max score: 0.8958333333333334 and Min score: 0.723404255319149\n"
     ]
    }
   ],
   "source": [
    "k_folds = 5 \n",
    "skf = StratifiedKFold(n_splits=k_folds, shuffle=True, random_state=seed)\n",
    "# \n",
    "# Use np.random since cross_val_score doesn't take random_state \n",
    "np.random.seed(seed)\n",
    "score = cross_val_score(rand_forest, X_train_scaled, y_train, cv=skf, scoring = \"accuracy\")\n",
    "\n",
    "print(f\"Random Forest: mean score of {\"{:.4f}\".format(score.mean())} and std of {\"{:.4f}\".format(score.std())}\")\n",
    "print(f\"Max score: {score.max()} and Min score: {score.min()}\")"
   ]
  },
  {
   "cell_type": "markdown",
   "metadata": {},
   "source": [
    "The highest accuracy it acheives is 89.5% which is pretty good! Now let's train our Random Forest with the actual training data. But first we need to do hyper parameter tuning to squeeze the maximum amount of performance from our model. \n",
    "\n",
    "What is hyper parameter tuning? Hyper parameter tuning is the process of finding the best set of hyper parameters for our model. Hyper parameters are parameters that are not learned from the data but are set before training the model. For example, in Random Forest, the number of trees in the forest is a hyper parameter. \n",
    "\n",
    "Now how do we actually find the best set of hyper parameters? We can use cross validation! Cross validation is commonly used in combination with another technique called grid search to find the best set of hyper parameters. Grid search is a brute force method that tests all possible combinations of hyper parameters and returns the best set of hyper parameters based on cross validation scores. \n",
    "\n",
    "We will use the `GridSearchCV` function from sklearn to perform hyper parameter tuning. It takes in our model, a dictionary of hyper parameters and their values to test, and the number of folds for cross validation. It returns the best set of hyper parameters and their corresponding score. \n",
    "\n",
    "Check this <a href=\"https://towardsdatascience.com/cross-validation-and-grid-search-efa64b127c1b/\">article</a> out if you want to learn more about how you can tune hyperparameters with grid search and cross validation. "
   ]
  },
  {
   "cell_type": "code",
   "execution_count": null,
   "metadata": {},
   "outputs": [
    {
     "data": {
      "text/html": [
       "<style>#sk-container-id-1 {\n",
       "  /* Definition of color scheme common for light and dark mode */\n",
       "  --sklearn-color-text: #000;\n",
       "  --sklearn-color-text-muted: #666;\n",
       "  --sklearn-color-line: gray;\n",
       "  /* Definition of color scheme for unfitted estimators */\n",
       "  --sklearn-color-unfitted-level-0: #fff5e6;\n",
       "  --sklearn-color-unfitted-level-1: #f6e4d2;\n",
       "  --sklearn-color-unfitted-level-2: #ffe0b3;\n",
       "  --sklearn-color-unfitted-level-3: chocolate;\n",
       "  /* Definition of color scheme for fitted estimators */\n",
       "  --sklearn-color-fitted-level-0: #f0f8ff;\n",
       "  --sklearn-color-fitted-level-1: #d4ebff;\n",
       "  --sklearn-color-fitted-level-2: #b3dbfd;\n",
       "  --sklearn-color-fitted-level-3: cornflowerblue;\n",
       "\n",
       "  /* Specific color for light theme */\n",
       "  --sklearn-color-text-on-default-background: var(--sg-text-color, var(--theme-code-foreground, var(--jp-content-font-color1, black)));\n",
       "  --sklearn-color-background: var(--sg-background-color, var(--theme-background, var(--jp-layout-color0, white)));\n",
       "  --sklearn-color-border-box: var(--sg-text-color, var(--theme-code-foreground, var(--jp-content-font-color1, black)));\n",
       "  --sklearn-color-icon: #696969;\n",
       "\n",
       "  @media (prefers-color-scheme: dark) {\n",
       "    /* Redefinition of color scheme for dark theme */\n",
       "    --sklearn-color-text-on-default-background: var(--sg-text-color, var(--theme-code-foreground, var(--jp-content-font-color1, white)));\n",
       "    --sklearn-color-background: var(--sg-background-color, var(--theme-background, var(--jp-layout-color0, #111)));\n",
       "    --sklearn-color-border-box: var(--sg-text-color, var(--theme-code-foreground, var(--jp-content-font-color1, white)));\n",
       "    --sklearn-color-icon: #878787;\n",
       "  }\n",
       "}\n",
       "\n",
       "#sk-container-id-1 {\n",
       "  color: var(--sklearn-color-text);\n",
       "}\n",
       "\n",
       "#sk-container-id-1 pre {\n",
       "  padding: 0;\n",
       "}\n",
       "\n",
       "#sk-container-id-1 input.sk-hidden--visually {\n",
       "  border: 0;\n",
       "  clip: rect(1px 1px 1px 1px);\n",
       "  clip: rect(1px, 1px, 1px, 1px);\n",
       "  height: 1px;\n",
       "  margin: -1px;\n",
       "  overflow: hidden;\n",
       "  padding: 0;\n",
       "  position: absolute;\n",
       "  width: 1px;\n",
       "}\n",
       "\n",
       "#sk-container-id-1 div.sk-dashed-wrapped {\n",
       "  border: 1px dashed var(--sklearn-color-line);\n",
       "  margin: 0 0.4em 0.5em 0.4em;\n",
       "  box-sizing: border-box;\n",
       "  padding-bottom: 0.4em;\n",
       "  background-color: var(--sklearn-color-background);\n",
       "}\n",
       "\n",
       "#sk-container-id-1 div.sk-container {\n",
       "  /* jupyter's `normalize.less` sets `[hidden] { display: none; }`\n",
       "     but bootstrap.min.css set `[hidden] { display: none !important; }`\n",
       "     so we also need the `!important` here to be able to override the\n",
       "     default hidden behavior on the sphinx rendered scikit-learn.org.\n",
       "     See: https://github.com/scikit-learn/scikit-learn/issues/21755 */\n",
       "  display: inline-block !important;\n",
       "  position: relative;\n",
       "}\n",
       "\n",
       "#sk-container-id-1 div.sk-text-repr-fallback {\n",
       "  display: none;\n",
       "}\n",
       "\n",
       "div.sk-parallel-item,\n",
       "div.sk-serial,\n",
       "div.sk-item {\n",
       "  /* draw centered vertical line to link estimators */\n",
       "  background-image: linear-gradient(var(--sklearn-color-text-on-default-background), var(--sklearn-color-text-on-default-background));\n",
       "  background-size: 2px 100%;\n",
       "  background-repeat: no-repeat;\n",
       "  background-position: center center;\n",
       "}\n",
       "\n",
       "/* Parallel-specific style estimator block */\n",
       "\n",
       "#sk-container-id-1 div.sk-parallel-item::after {\n",
       "  content: \"\";\n",
       "  width: 100%;\n",
       "  border-bottom: 2px solid var(--sklearn-color-text-on-default-background);\n",
       "  flex-grow: 1;\n",
       "}\n",
       "\n",
       "#sk-container-id-1 div.sk-parallel {\n",
       "  display: flex;\n",
       "  align-items: stretch;\n",
       "  justify-content: center;\n",
       "  background-color: var(--sklearn-color-background);\n",
       "  position: relative;\n",
       "}\n",
       "\n",
       "#sk-container-id-1 div.sk-parallel-item {\n",
       "  display: flex;\n",
       "  flex-direction: column;\n",
       "}\n",
       "\n",
       "#sk-container-id-1 div.sk-parallel-item:first-child::after {\n",
       "  align-self: flex-end;\n",
       "  width: 50%;\n",
       "}\n",
       "\n",
       "#sk-container-id-1 div.sk-parallel-item:last-child::after {\n",
       "  align-self: flex-start;\n",
       "  width: 50%;\n",
       "}\n",
       "\n",
       "#sk-container-id-1 div.sk-parallel-item:only-child::after {\n",
       "  width: 0;\n",
       "}\n",
       "\n",
       "/* Serial-specific style estimator block */\n",
       "\n",
       "#sk-container-id-1 div.sk-serial {\n",
       "  display: flex;\n",
       "  flex-direction: column;\n",
       "  align-items: center;\n",
       "  background-color: var(--sklearn-color-background);\n",
       "  padding-right: 1em;\n",
       "  padding-left: 1em;\n",
       "}\n",
       "\n",
       "\n",
       "/* Toggleable style: style used for estimator/Pipeline/ColumnTransformer box that is\n",
       "clickable and can be expanded/collapsed.\n",
       "- Pipeline and ColumnTransformer use this feature and define the default style\n",
       "- Estimators will overwrite some part of the style using the `sk-estimator` class\n",
       "*/\n",
       "\n",
       "/* Pipeline and ColumnTransformer style (default) */\n",
       "\n",
       "#sk-container-id-1 div.sk-toggleable {\n",
       "  /* Default theme specific background. It is overwritten whether we have a\n",
       "  specific estimator or a Pipeline/ColumnTransformer */\n",
       "  background-color: var(--sklearn-color-background);\n",
       "}\n",
       "\n",
       "/* Toggleable label */\n",
       "#sk-container-id-1 label.sk-toggleable__label {\n",
       "  cursor: pointer;\n",
       "  display: flex;\n",
       "  width: 100%;\n",
       "  margin-bottom: 0;\n",
       "  padding: 0.5em;\n",
       "  box-sizing: border-box;\n",
       "  text-align: center;\n",
       "  align-items: start;\n",
       "  justify-content: space-between;\n",
       "  gap: 0.5em;\n",
       "}\n",
       "\n",
       "#sk-container-id-1 label.sk-toggleable__label .caption {\n",
       "  font-size: 0.6rem;\n",
       "  font-weight: lighter;\n",
       "  color: var(--sklearn-color-text-muted);\n",
       "}\n",
       "\n",
       "#sk-container-id-1 label.sk-toggleable__label-arrow:before {\n",
       "  /* Arrow on the left of the label */\n",
       "  content: \"▸\";\n",
       "  float: left;\n",
       "  margin-right: 0.25em;\n",
       "  color: var(--sklearn-color-icon);\n",
       "}\n",
       "\n",
       "#sk-container-id-1 label.sk-toggleable__label-arrow:hover:before {\n",
       "  color: var(--sklearn-color-text);\n",
       "}\n",
       "\n",
       "/* Toggleable content - dropdown */\n",
       "\n",
       "#sk-container-id-1 div.sk-toggleable__content {\n",
       "  max-height: 0;\n",
       "  max-width: 0;\n",
       "  overflow: hidden;\n",
       "  text-align: left;\n",
       "  /* unfitted */\n",
       "  background-color: var(--sklearn-color-unfitted-level-0);\n",
       "}\n",
       "\n",
       "#sk-container-id-1 div.sk-toggleable__content.fitted {\n",
       "  /* fitted */\n",
       "  background-color: var(--sklearn-color-fitted-level-0);\n",
       "}\n",
       "\n",
       "#sk-container-id-1 div.sk-toggleable__content pre {\n",
       "  margin: 0.2em;\n",
       "  border-radius: 0.25em;\n",
       "  color: var(--sklearn-color-text);\n",
       "  /* unfitted */\n",
       "  background-color: var(--sklearn-color-unfitted-level-0);\n",
       "}\n",
       "\n",
       "#sk-container-id-1 div.sk-toggleable__content.fitted pre {\n",
       "  /* unfitted */\n",
       "  background-color: var(--sklearn-color-fitted-level-0);\n",
       "}\n",
       "\n",
       "#sk-container-id-1 input.sk-toggleable__control:checked~div.sk-toggleable__content {\n",
       "  /* Expand drop-down */\n",
       "  max-height: 200px;\n",
       "  max-width: 100%;\n",
       "  overflow: auto;\n",
       "}\n",
       "\n",
       "#sk-container-id-1 input.sk-toggleable__control:checked~label.sk-toggleable__label-arrow:before {\n",
       "  content: \"▾\";\n",
       "}\n",
       "\n",
       "/* Pipeline/ColumnTransformer-specific style */\n",
       "\n",
       "#sk-container-id-1 div.sk-label input.sk-toggleable__control:checked~label.sk-toggleable__label {\n",
       "  color: var(--sklearn-color-text);\n",
       "  background-color: var(--sklearn-color-unfitted-level-2);\n",
       "}\n",
       "\n",
       "#sk-container-id-1 div.sk-label.fitted input.sk-toggleable__control:checked~label.sk-toggleable__label {\n",
       "  background-color: var(--sklearn-color-fitted-level-2);\n",
       "}\n",
       "\n",
       "/* Estimator-specific style */\n",
       "\n",
       "/* Colorize estimator box */\n",
       "#sk-container-id-1 div.sk-estimator input.sk-toggleable__control:checked~label.sk-toggleable__label {\n",
       "  /* unfitted */\n",
       "  background-color: var(--sklearn-color-unfitted-level-2);\n",
       "}\n",
       "\n",
       "#sk-container-id-1 div.sk-estimator.fitted input.sk-toggleable__control:checked~label.sk-toggleable__label {\n",
       "  /* fitted */\n",
       "  background-color: var(--sklearn-color-fitted-level-2);\n",
       "}\n",
       "\n",
       "#sk-container-id-1 div.sk-label label.sk-toggleable__label,\n",
       "#sk-container-id-1 div.sk-label label {\n",
       "  /* The background is the default theme color */\n",
       "  color: var(--sklearn-color-text-on-default-background);\n",
       "}\n",
       "\n",
       "/* On hover, darken the color of the background */\n",
       "#sk-container-id-1 div.sk-label:hover label.sk-toggleable__label {\n",
       "  color: var(--sklearn-color-text);\n",
       "  background-color: var(--sklearn-color-unfitted-level-2);\n",
       "}\n",
       "\n",
       "/* Label box, darken color on hover, fitted */\n",
       "#sk-container-id-1 div.sk-label.fitted:hover label.sk-toggleable__label.fitted {\n",
       "  color: var(--sklearn-color-text);\n",
       "  background-color: var(--sklearn-color-fitted-level-2);\n",
       "}\n",
       "\n",
       "/* Estimator label */\n",
       "\n",
       "#sk-container-id-1 div.sk-label label {\n",
       "  font-family: monospace;\n",
       "  font-weight: bold;\n",
       "  display: inline-block;\n",
       "  line-height: 1.2em;\n",
       "}\n",
       "\n",
       "#sk-container-id-1 div.sk-label-container {\n",
       "  text-align: center;\n",
       "}\n",
       "\n",
       "/* Estimator-specific */\n",
       "#sk-container-id-1 div.sk-estimator {\n",
       "  font-family: monospace;\n",
       "  border: 1px dotted var(--sklearn-color-border-box);\n",
       "  border-radius: 0.25em;\n",
       "  box-sizing: border-box;\n",
       "  margin-bottom: 0.5em;\n",
       "  /* unfitted */\n",
       "  background-color: var(--sklearn-color-unfitted-level-0);\n",
       "}\n",
       "\n",
       "#sk-container-id-1 div.sk-estimator.fitted {\n",
       "  /* fitted */\n",
       "  background-color: var(--sklearn-color-fitted-level-0);\n",
       "}\n",
       "\n",
       "/* on hover */\n",
       "#sk-container-id-1 div.sk-estimator:hover {\n",
       "  /* unfitted */\n",
       "  background-color: var(--sklearn-color-unfitted-level-2);\n",
       "}\n",
       "\n",
       "#sk-container-id-1 div.sk-estimator.fitted:hover {\n",
       "  /* fitted */\n",
       "  background-color: var(--sklearn-color-fitted-level-2);\n",
       "}\n",
       "\n",
       "/* Specification for estimator info (e.g. \"i\" and \"?\") */\n",
       "\n",
       "/* Common style for \"i\" and \"?\" */\n",
       "\n",
       ".sk-estimator-doc-link,\n",
       "a:link.sk-estimator-doc-link,\n",
       "a:visited.sk-estimator-doc-link {\n",
       "  float: right;\n",
       "  font-size: smaller;\n",
       "  line-height: 1em;\n",
       "  font-family: monospace;\n",
       "  background-color: var(--sklearn-color-background);\n",
       "  border-radius: 1em;\n",
       "  height: 1em;\n",
       "  width: 1em;\n",
       "  text-decoration: none !important;\n",
       "  margin-left: 0.5em;\n",
       "  text-align: center;\n",
       "  /* unfitted */\n",
       "  border: var(--sklearn-color-unfitted-level-1) 1pt solid;\n",
       "  color: var(--sklearn-color-unfitted-level-1);\n",
       "}\n",
       "\n",
       ".sk-estimator-doc-link.fitted,\n",
       "a:link.sk-estimator-doc-link.fitted,\n",
       "a:visited.sk-estimator-doc-link.fitted {\n",
       "  /* fitted */\n",
       "  border: var(--sklearn-color-fitted-level-1) 1pt solid;\n",
       "  color: var(--sklearn-color-fitted-level-1);\n",
       "}\n",
       "\n",
       "/* On hover */\n",
       "div.sk-estimator:hover .sk-estimator-doc-link:hover,\n",
       ".sk-estimator-doc-link:hover,\n",
       "div.sk-label-container:hover .sk-estimator-doc-link:hover,\n",
       ".sk-estimator-doc-link:hover {\n",
       "  /* unfitted */\n",
       "  background-color: var(--sklearn-color-unfitted-level-3);\n",
       "  color: var(--sklearn-color-background);\n",
       "  text-decoration: none;\n",
       "}\n",
       "\n",
       "div.sk-estimator.fitted:hover .sk-estimator-doc-link.fitted:hover,\n",
       ".sk-estimator-doc-link.fitted:hover,\n",
       "div.sk-label-container:hover .sk-estimator-doc-link.fitted:hover,\n",
       ".sk-estimator-doc-link.fitted:hover {\n",
       "  /* fitted */\n",
       "  background-color: var(--sklearn-color-fitted-level-3);\n",
       "  color: var(--sklearn-color-background);\n",
       "  text-decoration: none;\n",
       "}\n",
       "\n",
       "/* Span, style for the box shown on hovering the info icon */\n",
       ".sk-estimator-doc-link span {\n",
       "  display: none;\n",
       "  z-index: 9999;\n",
       "  position: relative;\n",
       "  font-weight: normal;\n",
       "  right: .2ex;\n",
       "  padding: .5ex;\n",
       "  margin: .5ex;\n",
       "  width: min-content;\n",
       "  min-width: 20ex;\n",
       "  max-width: 50ex;\n",
       "  color: var(--sklearn-color-text);\n",
       "  box-shadow: 2pt 2pt 4pt #999;\n",
       "  /* unfitted */\n",
       "  background: var(--sklearn-color-unfitted-level-0);\n",
       "  border: .5pt solid var(--sklearn-color-unfitted-level-3);\n",
       "}\n",
       "\n",
       ".sk-estimator-doc-link.fitted span {\n",
       "  /* fitted */\n",
       "  background: var(--sklearn-color-fitted-level-0);\n",
       "  border: var(--sklearn-color-fitted-level-3);\n",
       "}\n",
       "\n",
       ".sk-estimator-doc-link:hover span {\n",
       "  display: block;\n",
       "}\n",
       "\n",
       "/* \"?\"-specific style due to the `<a>` HTML tag */\n",
       "\n",
       "#sk-container-id-1 a.estimator_doc_link {\n",
       "  float: right;\n",
       "  font-size: 1rem;\n",
       "  line-height: 1em;\n",
       "  font-family: monospace;\n",
       "  background-color: var(--sklearn-color-background);\n",
       "  border-radius: 1rem;\n",
       "  height: 1rem;\n",
       "  width: 1rem;\n",
       "  text-decoration: none;\n",
       "  /* unfitted */\n",
       "  color: var(--sklearn-color-unfitted-level-1);\n",
       "  border: var(--sklearn-color-unfitted-level-1) 1pt solid;\n",
       "}\n",
       "\n",
       "#sk-container-id-1 a.estimator_doc_link.fitted {\n",
       "  /* fitted */\n",
       "  border: var(--sklearn-color-fitted-level-1) 1pt solid;\n",
       "  color: var(--sklearn-color-fitted-level-1);\n",
       "}\n",
       "\n",
       "/* On hover */\n",
       "#sk-container-id-1 a.estimator_doc_link:hover {\n",
       "  /* unfitted */\n",
       "  background-color: var(--sklearn-color-unfitted-level-3);\n",
       "  color: var(--sklearn-color-background);\n",
       "  text-decoration: none;\n",
       "}\n",
       "\n",
       "#sk-container-id-1 a.estimator_doc_link.fitted:hover {\n",
       "  /* fitted */\n",
       "  background-color: var(--sklearn-color-fitted-level-3);\n",
       "}\n",
       "</style><div id=\"sk-container-id-1\" class=\"sk-top-container\"><div class=\"sk-text-repr-fallback\"><pre>GridSearchCV(cv=5, estimator=RandomForestClassifier(random_state=31),\n",
       "             param_grid={&#x27;max_depth&#x27;: [None, 10, 20],\n",
       "                         &#x27;min_samples_leaf&#x27;: [1, 2, 4],\n",
       "                         &#x27;min_samples_split&#x27;: [2, 5, 10],\n",
       "                         &#x27;n_estimators&#x27;: [50, 100, 150]},\n",
       "             scoring=&#x27;accuracy&#x27;)</pre><b>In a Jupyter environment, please rerun this cell to show the HTML representation or trust the notebook. <br />On GitHub, the HTML representation is unable to render, please try loading this page with nbviewer.org.</b></div><div class=\"sk-container\" hidden><div class=\"sk-item sk-dashed-wrapped\"><div class=\"sk-label-container\"><div class=\"sk-label fitted sk-toggleable\"><input class=\"sk-toggleable__control sk-hidden--visually\" id=\"sk-estimator-id-1\" type=\"checkbox\" ><label for=\"sk-estimator-id-1\" class=\"sk-toggleable__label fitted sk-toggleable__label-arrow\"><div><div>GridSearchCV</div></div><div><a class=\"sk-estimator-doc-link fitted\" rel=\"noreferrer\" target=\"_blank\" href=\"https://scikit-learn.org/1.6/modules/generated/sklearn.model_selection.GridSearchCV.html\">?<span>Documentation for GridSearchCV</span></a><span class=\"sk-estimator-doc-link fitted\">i<span>Fitted</span></span></div></label><div class=\"sk-toggleable__content fitted\"><pre>GridSearchCV(cv=5, estimator=RandomForestClassifier(random_state=31),\n",
       "             param_grid={&#x27;max_depth&#x27;: [None, 10, 20],\n",
       "                         &#x27;min_samples_leaf&#x27;: [1, 2, 4],\n",
       "                         &#x27;min_samples_split&#x27;: [2, 5, 10],\n",
       "                         &#x27;n_estimators&#x27;: [50, 100, 150]},\n",
       "             scoring=&#x27;accuracy&#x27;)</pre></div> </div></div><div class=\"sk-parallel\"><div class=\"sk-parallel-item\"><div class=\"sk-item\"><div class=\"sk-label-container\"><div class=\"sk-label fitted sk-toggleable\"><input class=\"sk-toggleable__control sk-hidden--visually\" id=\"sk-estimator-id-2\" type=\"checkbox\" ><label for=\"sk-estimator-id-2\" class=\"sk-toggleable__label fitted sk-toggleable__label-arrow\"><div><div>best_estimator_: RandomForestClassifier</div></div></label><div class=\"sk-toggleable__content fitted\"><pre>RandomForestClassifier(min_samples_leaf=4, min_samples_split=10,\n",
       "                       random_state=31)</pre></div> </div></div><div class=\"sk-serial\"><div class=\"sk-item\"><div class=\"sk-estimator fitted sk-toggleable\"><input class=\"sk-toggleable__control sk-hidden--visually\" id=\"sk-estimator-id-3\" type=\"checkbox\" ><label for=\"sk-estimator-id-3\" class=\"sk-toggleable__label fitted sk-toggleable__label-arrow\"><div><div>RandomForestClassifier</div></div><div><a class=\"sk-estimator-doc-link fitted\" rel=\"noreferrer\" target=\"_blank\" href=\"https://scikit-learn.org/1.6/modules/generated/sklearn.ensemble.RandomForestClassifier.html\">?<span>Documentation for RandomForestClassifier</span></a></div></label><div class=\"sk-toggleable__content fitted\"><pre>RandomForestClassifier(min_samples_leaf=4, min_samples_split=10,\n",
       "                       random_state=31)</pre></div> </div></div></div></div></div></div></div></div></div>"
      ],
      "text/plain": [
       "GridSearchCV(cv=5, estimator=RandomForestClassifier(random_state=31),\n",
       "             param_grid={'max_depth': [None, 10, 20],\n",
       "                         'min_samples_leaf': [1, 2, 4],\n",
       "                         'min_samples_split': [2, 5, 10],\n",
       "                         'n_estimators': [50, 100, 150]},\n",
       "             scoring='accuracy')"
      ]
     },
     "execution_count": 287,
     "metadata": {},
     "output_type": "execute_result"
    }
   ],
   "source": [
    "# Define some initial hyperparameters for tuning \n",
    "# There are many hyperparameters we can tune, but we'll do just a couple\n",
    "params = {\n",
    "    'n_estimators': [50, 100, 150], # number of trees in the forest\n",
    "    'max_depth': [None, 10, 20], # max depth of the tree (None means no depth limit)\n",
    "    'min_samples_split': [2, 5, 10],  # min num of samples required to be at a leaf node\n",
    "    'min_samples_leaf': [1, 2, 4] # min num of samples required to split an internal node\n",
    "}\n",
    "\n",
    "\n",
    "# Perform grid search for hyperparameter tuning\n",
    "np.random.seed(seed)\n",
    "grid_search = GridSearchCV(rand_forest, params, cv=5, scoring='accuracy')\n",
    "grid_search.fit(X_train_scaled, y_train)"
   ]
  },
  {
   "cell_type": "markdown",
   "metadata": {},
   "source": [
    "And now we can get the best hyper parameters for our model! "
   ]
  },
  {
   "cell_type": "code",
   "execution_count": 289,
   "metadata": {},
   "outputs": [
    {
     "name": "stdout",
     "output_type": "stream",
     "text": [
      "Best Hyperparameters: {'max_depth': None, 'min_samples_leaf': 4, 'min_samples_split': 10, 'n_estimators': 100}\n"
     ]
    }
   ],
   "source": [
    "best_random_forest = grid_search.best_estimator_\n",
    "best_params = grid_search.best_params_\n",
    "\n",
    "# Print the best hyperparameters\n",
    "print(f'Best Hyperparameters: {best_params}')"
   ]
  },
  {
   "cell_type": "markdown",
   "metadata": {},
   "source": [
    "Looks like our grid search said that the best number of trees to use is 100, the best max depth is having none, best min samples at leaves are 4, and lastly that the min samples to split is 10. \n",
    "\n",
    "Also, the best estimator that grid search returns is the random forest that is fitted with these optimal hyper parameters. We can use this estimator to make predictions on our test set by finally training it on our complete training set and evaluating it on our test set."
   ]
  },
  {
   "cell_type": "code",
   "execution_count": 314,
   "metadata": {},
   "outputs": [
    {
     "name": "stdout",
     "output_type": "stream",
     "text": [
      "Test Set Accuracy: 0.8333\n"
     ]
    }
   ],
   "source": [
    "# Train the best random forest on the full training set\n",
    "best_random_forest.fit(X_train_scaled, y_train)\n",
    "\n",
    "# Evaluate model on test set \n",
    "y_pred = best_random_forest.predict(X_test_scaled)\n",
    "accuracy = accuracy_score(y_test, y_pred)\n",
    "print(f'Test Set Accuracy: {accuracy:.4f}')"
   ]
  },
  {
   "cell_type": "markdown",
   "metadata": {},
   "source": [
    "This means that our model is performing well and is not overfitting.Nice! We were able to get a final accuracy of 83.3% on our test set using this fine tuned model, which is better than the score we got before doing grid search (80.5%). "
   ]
  },
  {
   "cell_type": "markdown",
   "metadata": {},
   "source": [
    " We can also look at the confusion matrix to see how well our model is performing. The confusion matrix shows us the number of true positives, true negatives, false positives, and false negatives for our model. We can use the `confusion_matrix` function from sklearn to create the confusion matrix."
   ]
  },
  {
   "cell_type": "code",
   "execution_count": null,
   "metadata": {},
   "outputs": [
    {
     "name": "stdout",
     "output_type": "stream",
     "text": [
      "Confusion Matrix:\n",
      "Predicted   0   1\n",
      "Actual           \n",
      "0          28   7\n",
      "1           3  22\n"
     ]
    },
    {
     "data": {
      "image/png": "[encoded data removed]",
      "text/plain": [
       "<Figure size 800x600 with 2 Axes>"
      ]
     },
     "metadata": {},
     "output_type": "display_data"
    }
   ],
   "source": [
    "# Get confusion matrix by taking cross tab of y_test and y_pred\n",
    "cf_matrix = pd.crosstab(y_test, y_pred, rownames=['Actual'], colnames=['Predicted'])\n",
    "# Create a heatmap for the confusion matrix\n",
    "plt.figure(figsize=(8, 6))\n",
    "sns.heatmap(confusion_matrix, annot=True, fmt='d', cmap='Blues', xticklabels=['Heart Disease', ' No Heart Disease'], yticklabels=['Heart Disease', 'No Heart Disease'])\n",
    "plt.xlabel('Predicted')\n",
    "plt.ylabel('Actual')\n",
    "plt.title('Confusion Matrix Heatmap')\n",
    "plt.show()"
   ]
  },
  {
   "cell_type": "markdown",
   "metadata": {},
   "source": [
    "Looking at our confusion matrix we see that we had 7 false positives and 2 false negatives. This means that our model predicted that 7 patients had heart disease when they actually didn't and 2 patients didn't have heart disease when they actually did. This is a pretty good result since we have a lot more true positives and true negatives than false positives and false negatives. "
   ]
  },
  {
   "cell_type": "markdown",
   "metadata": {},
   "source": [
    "### **Part 5: Conclusions** "
   ]
  },
  {
   "cell_type": "markdown",
   "metadata": {},
   "source": []
  }
 ],
 "metadata": {
  "kernelspec": {
   "display_name": ".venv",
   "language": "python",
   "name": "python3"
  },
  "language_info": {
   "codemirror_mode": {
    "name": "ipython",
    "version": 3
   },
   "file_extension": ".py",
   "mimetype": "text/x-python",
   "name": "python",
   "nbconvert_exporter": "python",
   "pygments_lexer": "ipython3",
   "version": "3.12.3"
  }
 },
 "nbformat": 4,
 "nbformat_minor": 2
}
